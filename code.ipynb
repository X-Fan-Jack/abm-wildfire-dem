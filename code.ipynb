{
 "cells": [
  {
   "attachments": {},
   "cell_type": "markdown",
   "metadata": {},
   "source": [
    "### Package Requirements"
   ]
  },
  {
   "cell_type": "code",
   "execution_count": 128,
   "metadata": {},
   "outputs": [],
   "source": [
    "import mesa\n",
    "import matplotlib.pyplot as plt\n",
    "import numpy as np\n",
    "from PIL import Image\n",
    "import rasterio\n",
    "import math\n",
    "import tqdm\n",
    "import requests\n",
    "from io import BytesIO"
   ]
  },
  {
   "attachments": {},
   "cell_type": "markdown",
   "metadata": {},
   "source": [
    "### Research Area Generation"
   ]
  },
  {
   "cell_type": "code",
   "execution_count": 129,
   "metadata": {},
   "outputs": [],
   "source": [
    "# Read the tif file with DEM data from local\n",
    "dem_file = \"data/UK_DEM.tif\"\n",
    "dem_image = Image.open(dem_file)\n",
    "\n",
    "\n",
    "# store the dem data into array\n",
    "dem_array_big = np.array(dem_image)"
   ]
  },
  {
   "cell_type": "code",
   "execution_count": 130,
   "metadata": {},
   "outputs": [],
   "source": [
    "# get a small area\n",
    "# form (900-1000, 1000-1100)\n",
    "\n",
    "dem_array_small = np.zeros((100, 100))\n",
    "for i in range(100):\n",
    "    for j in range(100):\n",
    "        dem_array_small[i][j] = dem_array_big[i+900][j+1000]\n",
    "\n",
    "# dem_array_small.shape\n",
    "dem_array = dem_array_small"
   ]
  },
  {
   "cell_type": "code",
   "execution_count": 131,
   "metadata": {},
   "outputs": [
    {
     "data": {
      "image/png": "[encoded data removed]",
      "text/plain": [
       "<Figure size 640x480 with 2 Axes>"
      ]
     },
     "metadata": {},
     "output_type": "display_data"
    }
   ],
   "source": [
    "# Draw dem_array\n",
    "plt.imshow(dem_array, cmap='gray')  \n",
    "plt.colorbar()  \n",
    "plt.title('Research Area') \n",
    "plt.xlabel('X Axis') \n",
    "plt.ylabel('Y Axis')  \n",
    "plt.show() "
   ]
  },
  {
   "attachments": {},
   "cell_type": "markdown",
   "metadata": {},
   "source": [
    "### Variable Definition"
   ]
  },
  {
   "attachments": {},
   "cell_type": "markdown",
   "metadata": {},
   "source": [
    "In this part, user can set a fire at any location.   \n",
    "This model also consider the temperature and humidity factors.   "
   ]
  },
  {
   "cell_type": "code",
   "execution_count": 132,
   "metadata": {},
   "outputs": [],
   "source": [
    "# Variable definition\n",
    "T = 25    # Average temperature (centigrade)\n",
    "h = 0.6   # Relative humidity (percentage)\n",
    "dt = 3    # Time cost in each step (hour)\n",
    "\n",
    "# set a fire at (x, y)\n",
    "fire_start_pos = (50,50)\n"
   ]
  },
  {
   "attachments": {},
   "cell_type": "markdown",
   "metadata": {},
   "source": [
    "### Parameters and Algorithm definition"
   ]
  },
  {
   "cell_type": "code",
   "execution_count": 133,
   "metadata": {},
   "outputs": [],
   "source": [
    "# Obtain geographic resolution information\n",
    "with rasterio.open(dem_file) as src:\n",
    "    x_resolution = src.transform[0]\n",
    "    y_resolution = src.transform[4]\n",
    "    # The average of the x and y directions is taken as the geographic resolution of the pixel\n",
    "    pixel_resolution = (abs(x_resolution) + abs(y_resolution)) / 2.0\n",
    "    # print(\"Each pixel of the DEM equals [\" + str(pixel_resolution) + \"m] in the real world\")"
   ]
  },
  {
   "cell_type": "code",
   "execution_count": 134,
   "metadata": {},
   "outputs": [],
   "source": [
    "# Definition of spread rate\n",
    "s = pixel_resolution    # Length of the patch side in real world\n",
    "h_i = 0   # Elevation of patch i\n",
    "h_i1 = 0  # Elevation of patch i+1\n",
    "\n",
    "# Constant definition\n",
    "a = 0.03\n",
    "c = 0.05\n",
    "D = -0.3\n",
    "\n",
    "# Definition of spread rate\n",
    "R_0 = a*T + c*h - D   # Flat, windless, homogeneous burning speed\n",
    "\n",
    "# Constant definition \n",
    "K_s = 1  # Combustibles coefficient, which indicates the effect of combustibles on the progress of combustion.\n",
    "K_w = 1  # The wind direction coefficient, which indicates the effect of windiness and wind direction on the progress of combustion. In this paper the effect of wind is not considered.\n",
    "\n",
    "\n",
    "\n",
    "K_phi = 1 # Slope factor, which indicates the effect of elevation difference on the burning progress.\n",
    "K_phi_4 = math.exp(3.533 * pow( (abs(h_i-h_i1) / s ), 1.2))                      # Slope factor, calculation formula in the four-neighborhood domain\n",
    "K_phi_8 = math.exp(3.533 * pow( (abs(h_i-h_i1) / (math.sqrt(2)*s)), 1.2))        # Slope factor, calculation formula in the eight-neighborhood diagonal\n",
    "\n",
    "# Definition of integrated propagation speed\n",
    "R = R_0 * K_s * K_w * K_phi\n",
    "R_4 = R_0 * K_s * K_w * K_phi_4   # spread in the four-neighborhood domain\n",
    "R_8 = R_0 * K_s * K_w * K_phi_8   # spread in the eight-neighborhood diagonal\n"
   ]
  },
  {
   "attachments": {},
   "cell_type": "markdown",
   "metadata": {},
   "source": [
    "### Model Definition"
   ]
  },
  {
   "cell_type": "code",
   "execution_count": 135,
   "metadata": {},
   "outputs": [],
   "source": [
    "class PatchAgent(mesa.Agent):\n",
    "    def __init__(self, pos, unique_id, model):\n",
    "        super().__init__(unique_id, model)\n",
    "        self.pos = pos\n",
    "        self.grid = model.grid\n",
    "        self.elevation = None\n",
    "        # self.state = 0  # 0 means no combustion; 0-1 means incomplete combustion; 2 means complete combustion; 3 means extinguished\n",
    "        self.state_t0 = 0 # the state in T\n",
    "        self.state_t1 = 0 # the state in T+1\n",
    "        self.affected = False\n",
    "        self.isBoundary = False\n",
    "        self.extinguished = False\n",
    "        self.check_boundary()\n",
    "\n",
    "    # agent do in each step\n",
    "    def step(self):\n",
    "        # what happens in T0\n",
    "        # Check affected?\n",
    "        self.check_affected()\n",
    "        # self.report_state()\n",
    "        self.update_state()\n",
    "        \n",
    "        \n",
    "\n",
    "    def advance(self):\n",
    "        # what happens in T1  \n",
    "        self.affected = False\n",
    "        self.state_t0 = self.state_t1 # update the state into T1\n",
    "        self.regularize_state()       \n",
    "        # self.report_state()\n",
    "    \n",
    "    # Definition of an agent's behavior\n",
    "    # Check if it has been affected by its neighbour, update its state\n",
    "    def check_affected(self):\n",
    "        for each in self.grid.get_neighbors(self.pos, moore=True, include_center=False):\n",
    "            if each.state_t0 == 2:\n",
    "                self.affected = True\n",
    "                # print(\"I'm affected at \" + str(self.pos) + \"\\n My State is \" + str(self.state))\n",
    "    \n",
    "    # report state if state is not 0\n",
    "    def report_state(self):\n",
    "        if self.state!=0:\n",
    "            print(str(self.pos)+\" report state: \" + str(self.state))\n",
    "\n",
    "    # Update the state value if affected\n",
    "    def update_state(self):\n",
    "        if self.affected and not(self.isBoundary) and not(self.extinguished) and self.state_t0!=2:\n",
    "            self.state_t1 = self.state_t0 + self.get_R_summary(4) + self.get_R_summary(8)  \n",
    "            # print the log\n",
    "            # print(\"I'm update at \" + str(self.pos) + \"\\n My new State is \" + str(self.state_t0))\n",
    "        return\n",
    "    \n",
    "    # Check if it is boundary, update its state\n",
    "    def check_boundary(self):\n",
    "        if self.pos[0] in (0, 1885, 1934) or self.pos[1] in (0, 1885, 1934):\n",
    "            self.isBoundary = True\n",
    "    \n",
    "    # Regularized the state\n",
    "    def regularize_state(self):\n",
    "        # If itself is already extinguished, it returns directly\n",
    "        if self.extinguished:\n",
    "            return\n",
    "        \n",
    "        # Update status values based on status values\n",
    "        if self.state_t0 >= 0 and self.state_t0<1: # if its burning or not, stay the same situation \n",
    "            self.state_t0 = self.state_t0\n",
    "            # print(\"I'm stay same at \" + str(self.pos) + \" My state is \" + str(self.state_t0))\n",
    "            return\n",
    "        elif self.state_t0>=1 and self.state_t0!=2 and self.state_t0!=3:  # if its burning well more than 1 and its not 3, change the state to 2\n",
    "            self.state_t0 = 2\n",
    "            # print(\"I'm burn well at \" + str(self.pos) + \" My state is \" + str(self.state_t0))\n",
    "            \n",
    "            return\n",
    "        else:\n",
    "            # check extinguished?\n",
    "            print(\"checking at\" + str(self.pos))\n",
    "            state_list = []\n",
    "            for each in self.grid.get_neighbors(self.pos, moore=True, include_center=False):\n",
    "                state_list.append(each.state_t0)\n",
    "            if all(x == 2 or x == 3 for x in state_list):\n",
    "                self.state_t0 = 3\n",
    "                self.extinguished = True\n",
    "            \n",
    "                 \n",
    "\n",
    "    # get the single R, self as point1\n",
    "    def get_R(self, x2, y2, mode = 4):\n",
    "        elevation_1 = self.elevation\n",
    "        \n",
    "        # only the neighbour's state 2 can affect the center\n",
    "        if self.grid[x2][y2].state_t0!=2:\n",
    "            return 0\n",
    "        \n",
    "        if mode == 4:\n",
    "            elevation_2 = self.grid[x2][y2].elevation\n",
    "            R_4_value = R_0 * K_s * K_w * math.exp(3.533 * pow( (abs(elevation_1-elevation_2) / s ), 1.2))\n",
    "            return R_4_value\n",
    "        elif mode == 8:\n",
    "            elevation_2 = self.grid[x2][y2].elevation\n",
    "            R_8_value = R_0 * K_s * K_w * math.exp(3.533 * pow( (abs(elevation_1-elevation_2) / (math.sqrt(2)*s)), 1.2))\n",
    "            return R_8_value\n",
    "        else:\n",
    "            print(\"get_R: Worng mode! please check the input\")\n",
    "\n",
    "    # get the result of sum R, self as point1\n",
    "    def get_R_summary(self, mode = 4):\n",
    "        x = self.pos[0]\n",
    "        y = self.pos[1]\n",
    "\n",
    "        if mode == 4:\n",
    "            R_4_summary_value = (self.get_R(x+1, y, 4) + \\\n",
    "                                 self.get_R(x-1, y, 4) + \\\n",
    "                                 self.get_R(x, y+1, 4) + \\\n",
    "                                 self.get_R(x, y-1, 4))*dt/s\n",
    "            return R_4_summary_value\n",
    "        elif mode == 8:\n",
    "            R_8_summary_value = (math.pow(self.get_R(x+1, y+1, 8), 2) + \\\n",
    "                                 math.pow(self.get_R(x+1, y-1, 8), 2) + \\\n",
    "                                 math.pow(self.get_R(x-1, y+1, 8), 2) + \\\n",
    "                                 math.pow(self.get_R(x-1, y-1, 8), 2)) * dt \\\n",
    "                                 / (2*math.pow(s,2))\n",
    "            return R_8_summary_value\n",
    "        else:\n",
    "            print(\"get_R_summary: Worng mode! please check the input\")\n"
   ]
  },
  {
   "cell_type": "code",
   "execution_count": 136,
   "metadata": {},
   "outputs": [],
   "source": [
    "class WorldModel(mesa.Model):\n",
    "    def __init__(self, firePoint, dem):\n",
    "        # The position of the fire/ The start of the fire\n",
    "        self.fire_x = firePoint[0]\n",
    "        self.fire_y = firePoint[1]\n",
    "\n",
    "        # Set the area of the DEM and the grid\n",
    "        self.height = dem.shape[0]\n",
    "        self.width = dem.shape[1]\n",
    "        super().__init__(self.width, self.height, False)\n",
    "        self.grid = mesa.space.SingleGrid(self.width, self.height, False)\n",
    "        self.ini_id = 0\n",
    "        self.schedule = mesa.time.SimultaneousActivation(self)\n",
    "\n",
    "        # create agents\n",
    "        for x in range(self.width):\n",
    "            for y in range(self.height):\n",
    "                elevation = dem[y ,x]\n",
    "                self.patchAgent = PatchAgent(pos= (x,y),unique_id= self.ini_id, model= self)\n",
    "                self.patchAgent.elevation = elevation\n",
    "                self.schedule.add(self.patchAgent)\n",
    "                self.grid.place_agent(self.patchAgent, (x,y))\n",
    "                self.ini_id = self.ini_id + 1\n",
    "        self.set_fire(self.fire_x,self.fire_y)\n",
    "        # self.get_agent_counts()\n",
    "    \n",
    "    # each step what will happen?\n",
    "    def step(self):\n",
    "        self.schedule.step()\n",
    "\n",
    "\n",
    "    # set a fire at XY\n",
    "    def set_fire(self, x, y):\n",
    "        fire_patch = self.grid[x][y]\n",
    "        fire_patch.state_t0 = 2\n",
    "        print(\"Well done, you set up a fire at \" + str(fire_patch.pos))\n",
    "\n"
   ]
  },
  {
   "cell_type": "code",
   "execution_count": 137,
   "metadata": {},
   "outputs": [],
   "source": [
    "# test \n",
    "# test = WorldModel(fire_start_pos, dem_array)\n",
    "\n",
    "# for i in range(10):\n",
    "#     print(\"Step: \" + str(i))\n",
    "#     test.step()"
   ]
  },
  {
   "attachments": {},
   "cell_type": "markdown",
   "metadata": {},
   "source": [
    "### Result Visualization"
   ]
  },
  {
   "cell_type": "code",
   "execution_count": 138,
   "metadata": {},
   "outputs": [],
   "source": [
    "# Definition of the render\n",
    "def forest_draw(agent):\n",
    "    agent_portrayal_green = {\n",
    "        \"Shape\" : \"circle\",\n",
    "        \"Filled\": \"true\",\n",
    "        \"Layer\": 0,\n",
    "        \"Color\": \"green\",\n",
    "        \"r\": 1\n",
    "    }\n",
    "    agent_portrayal_red = {\n",
    "        \"Shape\" : \"circle\",\n",
    "        \"Filled\": \"true\",\n",
    "        \"Layer\": 0,\n",
    "        \"Color\": \"red\",\n",
    "        \"r\": agent.state_t0\n",
    "    }\n",
    "        \n",
    "    if agent.state_t0 == 0:\n",
    "        return agent_portrayal_green\n",
    "    elif agent.state_t0>0:\n",
    "        return agent_portrayal_red"
   ]
  },
  {
   "cell_type": "code",
   "execution_count": 139,
   "metadata": {},
   "outputs": [
    {
     "name": "stdout",
     "output_type": "stream",
     "text": [
      "Well done, you set up a fire at (50, 50)\n"
     ]
    }
   ],
   "source": [
    "# Set the visualization\n",
    "para_dict = {\n",
    "    \"firePoint\": fire_start_pos,\n",
    "    \"dem\": dem_array\n",
    "}\n",
    "\n",
    "# Set the visualization server\n",
    "canvas_element = mesa.visualization.CanvasGrid(forest_draw, dem_array.shape[1], dem_array.shape[0], 500, 500)\n",
    "server = mesa.visualization.ModularServer(WorldModel, [canvas_element], \"DEM-based Wildfire Performance\", model_params = para_dict)"
   ]
  },
  {
   "cell_type": "code",
   "execution_count": 140,
   "metadata": {},
   "outputs": [
    {
     "name": "stdout",
     "output_type": "stream",
     "text": [
      "Interface starting at http://127.0.0.1:8011\n"
     ]
    },
    {
     "ename": "RuntimeError",
     "evalue": "This event loop is already running",
     "output_type": "error",
     "traceback": [
      "\u001b[1;31m---------------------------------------------------------------------------\u001b[0m",
      "\u001b[1;31mRuntimeError\u001b[0m                              Traceback (most recent call last)",
      "Cell \u001b[1;32mIn[140], line 2\u001b[0m\n\u001b[0;32m      1\u001b[0m \u001b[39m# Launch server\u001b[39;00m\n\u001b[1;32m----> 2\u001b[0m server\u001b[39m.\u001b[39;49mlaunch(port\u001b[39m=\u001b[39;49m\u001b[39m8011\u001b[39;49m)\n",
      "File \u001b[1;32m~\\AppData\\Roaming\\Python\\Python39\\site-packages\\mesa\\visualization\\ModularVisualization.py:407\u001b[0m, in \u001b[0;36mModularServer.launch\u001b[1;34m(self, port, open_browser)\u001b[0m\n\u001b[0;32m    405\u001b[0m     webbrowser\u001b[39m.\u001b[39mopen(url)\n\u001b[0;32m    406\u001b[0m tornado\u001b[39m.\u001b[39mautoreload\u001b[39m.\u001b[39mstart()\n\u001b[1;32m--> 407\u001b[0m tornado\u001b[39m.\u001b[39;49mioloop\u001b[39m.\u001b[39;49mIOLoop\u001b[39m.\u001b[39;49mcurrent()\u001b[39m.\u001b[39;49mstart()\n",
      "File \u001b[1;32m~\\AppData\\Roaming\\Python\\Python39\\site-packages\\tornado\\platform\\asyncio.py:215\u001b[0m, in \u001b[0;36mBaseAsyncIOLoop.start\u001b[1;34m(self)\u001b[0m\n\u001b[0;32m    213\u001b[0m \u001b[39mtry\u001b[39;00m:\n\u001b[0;32m    214\u001b[0m     asyncio\u001b[39m.\u001b[39mset_event_loop(\u001b[39mself\u001b[39m\u001b[39m.\u001b[39masyncio_loop)\n\u001b[1;32m--> 215\u001b[0m     \u001b[39mself\u001b[39;49m\u001b[39m.\u001b[39;49masyncio_loop\u001b[39m.\u001b[39;49mrun_forever()\n\u001b[0;32m    216\u001b[0m \u001b[39mfinally\u001b[39;00m:\n\u001b[0;32m    217\u001b[0m     asyncio\u001b[39m.\u001b[39mset_event_loop(old_loop)\n",
      "File \u001b[1;32md:\\anaconda3\\lib\\asyncio\\base_events.py:591\u001b[0m, in \u001b[0;36mBaseEventLoop.run_forever\u001b[1;34m(self)\u001b[0m\n\u001b[0;32m    589\u001b[0m \u001b[39m\"\"\"Run until stop() is called.\"\"\"\u001b[39;00m\n\u001b[0;32m    590\u001b[0m \u001b[39mself\u001b[39m\u001b[39m.\u001b[39m_check_closed()\n\u001b[1;32m--> 591\u001b[0m \u001b[39mself\u001b[39;49m\u001b[39m.\u001b[39;49m_check_running()\n\u001b[0;32m    592\u001b[0m \u001b[39mself\u001b[39m\u001b[39m.\u001b[39m_set_coroutine_origin_tracking(\u001b[39mself\u001b[39m\u001b[39m.\u001b[39m_debug)\n\u001b[0;32m    593\u001b[0m \u001b[39mself\u001b[39m\u001b[39m.\u001b[39m_thread_id \u001b[39m=\u001b[39m threading\u001b[39m.\u001b[39mget_ident()\n",
      "File \u001b[1;32md:\\anaconda3\\lib\\asyncio\\base_events.py:583\u001b[0m, in \u001b[0;36mBaseEventLoop._check_running\u001b[1;34m(self)\u001b[0m\n\u001b[0;32m    581\u001b[0m \u001b[39mdef\u001b[39;00m \u001b[39m_check_running\u001b[39m(\u001b[39mself\u001b[39m):\n\u001b[0;32m    582\u001b[0m     \u001b[39mif\u001b[39;00m \u001b[39mself\u001b[39m\u001b[39m.\u001b[39mis_running():\n\u001b[1;32m--> 583\u001b[0m         \u001b[39mraise\u001b[39;00m \u001b[39mRuntimeError\u001b[39;00m(\u001b[39m'\u001b[39m\u001b[39mThis event loop is already running\u001b[39m\u001b[39m'\u001b[39m)\n\u001b[0;32m    584\u001b[0m     \u001b[39mif\u001b[39;00m events\u001b[39m.\u001b[39m_get_running_loop() \u001b[39mis\u001b[39;00m \u001b[39mnot\u001b[39;00m \u001b[39mNone\u001b[39;00m:\n\u001b[0;32m    585\u001b[0m         \u001b[39mraise\u001b[39;00m \u001b[39mRuntimeError\u001b[39;00m(\n\u001b[0;32m    586\u001b[0m             \u001b[39m'\u001b[39m\u001b[39mCannot run the event loop while another loop is running\u001b[39m\u001b[39m'\u001b[39m)\n",
      "\u001b[1;31mRuntimeError\u001b[0m: This event loop is already running"
     ]
    },
    {
     "name": "stdout",
     "output_type": "stream",
     "text": [
      "Socket opened!\n",
      "{\"type\":\"reset\"}\n",
      "Well done, you set up a fire at (50, 50)\n",
      "{\"type\":\"get_step\",\"step\":1}\n",
      "{\"type\":\"get_step\",\"step\":2}\n",
      "{\"type\":\"get_step\",\"step\":3}\n",
      "{\"type\":\"get_step\",\"step\":4}\n",
      "{\"type\":\"get_step\",\"step\":5}\n",
      "{\"type\":\"get_step\",\"step\":6}\n",
      "{\"type\":\"get_step\",\"step\":7}\n",
      "{\"type\":\"get_step\",\"step\":8}\n",
      "{\"type\":\"get_step\",\"step\":9}\n",
      "{\"type\":\"get_step\",\"step\":10}\n",
      "{\"type\":\"get_step\",\"step\":11}\n",
      "{\"type\":\"get_step\",\"step\":12}\n",
      "{\"type\":\"get_step\",\"step\":13}\n",
      "{\"type\":\"get_step\",\"step\":14}\n",
      "{\"type\":\"get_step\",\"step\":15}\n",
      "{\"type\":\"get_step\",\"step\":16}\n",
      "{\"type\":\"get_step\",\"step\":17}\n",
      "{\"type\":\"get_step\",\"step\":18}\n",
      "{\"type\":\"get_step\",\"step\":19}\n",
      "{\"type\":\"get_step\",\"step\":20}\n",
      "{\"type\":\"get_step\",\"step\":21}\n",
      "{\"type\":\"get_step\",\"step\":22}\n",
      "{\"type\":\"get_step\",\"step\":23}\n",
      "{\"type\":\"get_step\",\"step\":24}\n",
      "{\"type\":\"get_step\",\"step\":25}\n",
      "{\"type\":\"get_step\",\"step\":26}\n",
      "{\"type\":\"get_step\",\"step\":27}\n",
      "{\"type\":\"get_step\",\"step\":28}\n",
      "{\"type\":\"get_step\",\"step\":29}\n",
      "{\"type\":\"get_step\",\"step\":30}\n",
      "{\"type\":\"get_step\",\"step\":31}\n",
      "{\"type\":\"get_step\",\"step\":32}\n",
      "{\"type\":\"get_step\",\"step\":33}\n",
      "{\"type\":\"get_step\",\"step\":34}\n",
      "{\"type\":\"get_step\",\"step\":35}\n",
      "{\"type\":\"get_step\",\"step\":36}\n",
      "{\"type\":\"get_step\",\"step\":37}\n",
      "{\"type\":\"get_step\",\"step\":38}\n",
      "{\"type\":\"get_step\",\"step\":39}\n",
      "{\"type\":\"get_step\",\"step\":40}\n",
      "{\"type\":\"get_step\",\"step\":41}\n",
      "{\"type\":\"get_step\",\"step\":42}\n",
      "{\"type\":\"get_step\",\"step\":43}\n",
      "{\"type\":\"get_step\",\"step\":44}\n",
      "{\"type\":\"get_step\",\"step\":45}\n",
      "{\"type\":\"get_step\",\"step\":46}\n",
      "{\"type\":\"get_step\",\"step\":47}\n",
      "{\"type\":\"get_step\",\"step\":48}\n",
      "{\"type\":\"get_step\",\"step\":49}\n",
      "{\"type\":\"get_step\",\"step\":50}\n",
      "{\"type\":\"get_step\",\"step\":51}\n",
      "{\"type\":\"get_step\",\"step\":52}\n",
      "{\"type\":\"get_step\",\"step\":53}\n",
      "{\"type\":\"get_step\",\"step\":54}\n",
      "{\"type\":\"get_step\",\"step\":55}\n",
      "{\"type\":\"get_step\",\"step\":56}\n",
      "{\"type\":\"get_step\",\"step\":57}\n",
      "{\"type\":\"get_step\",\"step\":58}\n",
      "{\"type\":\"get_step\",\"step\":59}\n",
      "{\"type\":\"get_step\",\"step\":60}\n",
      "{\"type\":\"get_step\",\"step\":61}\n",
      "{\"type\":\"get_step\",\"step\":62}\n",
      "{\"type\":\"get_step\",\"step\":63}\n",
      "{\"type\":\"get_step\",\"step\":64}\n",
      "{\"type\":\"get_step\",\"step\":65}\n",
      "{\"type\":\"get_step\",\"step\":66}\n",
      "{\"type\":\"get_step\",\"step\":67}\n",
      "{\"type\":\"get_step\",\"step\":68}\n",
      "{\"type\":\"get_step\",\"step\":69}\n",
      "{\"type\":\"get_step\",\"step\":70}\n",
      "{\"type\":\"get_step\",\"step\":71}\n",
      "{\"type\":\"get_step\",\"step\":72}\n",
      "{\"type\":\"get_step\",\"step\":73}\n",
      "{\"type\":\"get_step\",\"step\":74}\n",
      "{\"type\":\"get_step\",\"step\":75}\n",
      "{\"type\":\"get_step\",\"step\":76}\n",
      "{\"type\":\"get_step\",\"step\":77}\n",
      "{\"type\":\"get_step\",\"step\":78}\n",
      "{\"type\":\"get_step\",\"step\":79}\n",
      "{\"type\":\"get_step\",\"step\":80}\n",
      "{\"type\":\"get_step\",\"step\":81}\n",
      "{\"type\":\"get_step\",\"step\":82}\n",
      "{\"type\":\"get_step\",\"step\":83}\n",
      "{\"type\":\"get_step\",\"step\":84}\n",
      "{\"type\":\"get_step\",\"step\":85}\n",
      "{\"type\":\"get_step\",\"step\":86}\n",
      "{\"type\":\"get_step\",\"step\":87}\n",
      "{\"type\":\"get_step\",\"step\":88}\n",
      "{\"type\":\"get_step\",\"step\":89}\n",
      "{\"type\":\"get_step\",\"step\":90}\n",
      "{\"type\":\"get_step\",\"step\":91}\n",
      "{\"type\":\"get_step\",\"step\":92}\n",
      "{\"type\":\"get_step\",\"step\":93}\n",
      "{\"type\":\"get_step\",\"step\":94}\n",
      "{\"type\":\"get_step\",\"step\":95}\n"
     ]
    }
   ],
   "source": [
    "# Launch server\n",
    "server.launch(port=8011)"
   ]
  }
 ],
 "metadata": {
  "kernelspec": {
   "display_name": "base",
   "language": "python",
   "name": "python3"
  },
  "language_info": {
   "codemirror_mode": {
    "name": "ipython",
    "version": 3
   },
   "file_extension": ".py",
   "mimetype": "text/x-python",
   "name": "python",
   "nbconvert_exporter": "python",
   "pygments_lexer": "ipython3",
   "version": "3.9.13"
  },
  "orig_nbformat": 4
 },
 "nbformat": 4,
 "nbformat_minor": 2
}
