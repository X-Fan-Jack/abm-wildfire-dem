{
 "cells": [
  {
   "cell_type": "code",
   "execution_count": 2,
   "metadata": {},
   "outputs": [],
   "source": [
    "import mesa\n",
    "\n",
    "import numpy as np\n",
    "from PIL import Image\n",
    "import rasterio\n",
    "import math\n",
    "import tqdm"
   ]
  },
  {
   "cell_type": "code",
   "execution_count": 3,
   "metadata": {},
   "outputs": [],
   "source": [
    "# Read the tif file with DEM data\n",
    "dem_file = \"data/UK_DEM.tif\"\n",
    "dem_image = Image.open(dem_file)\n",
    "\n",
    "# store the dem data into array\n",
    "dem_array = np.array(dem_image)"
   ]
  },
  {
   "cell_type": "code",
   "execution_count": 4,
   "metadata": {},
   "outputs": [
    {
     "name": "stdout",
     "output_type": "stream",
     "text": [
      "Each pixel of the DEM equals [10.0m] in the real world\n"
     ]
    }
   ],
   "source": [
    "# Obtain geographic resolution information\n",
    "with rasterio.open(dem_file) as src:\n",
    "    x_resolution = src.transform[0]\n",
    "    y_resolution = src.transform[4]\n",
    "    # The average of the x and y directions is taken as the geographic resolution of the pixel\n",
    "    pixel_resolution = (abs(x_resolution) + abs(y_resolution)) / 2.0\n",
    "    print(\"Each pixel of the DEM equals [\" + str(pixel_resolution) + \"m] in the real world\")"
   ]
  },
  {
   "cell_type": "code",
   "execution_count": 5,
   "metadata": {},
   "outputs": [],
   "source": [
    "# Variable definition\n",
    "T = 25    # Average temperature\n",
    "h = 0.6   # Relative humidity\n",
    "dt = 0.001    # Time cost in each step\n",
    "\n",
    "# Variable will change when model runs\n",
    "s = pixel_resolution    # Length of the patch side in real world\n",
    "h_i = 0   # Elevation of patch i\n",
    "h_i1 = 0  # Elevation of patch i+1"
   ]
  },
  {
   "cell_type": "code",
   "execution_count": 6,
   "metadata": {},
   "outputs": [],
   "source": [
    "# Constant definition\n",
    "a = 0.03\n",
    "c = 0.05\n",
    "D = -0.3"
   ]
  },
  {
   "cell_type": "code",
   "execution_count": 7,
   "metadata": {},
   "outputs": [],
   "source": [
    "# Definition of spread rate\n",
    "R_0 = a*T + c*h - D   # Flat, windless, homogeneous burning speed\n",
    "\n",
    "# Constant definition \n",
    "K_s = 1  # Combustibles coefficient, which indicates the effect of combustibles on the progress of combustion.\n",
    "K_w = 1  # The wind direction coefficient, which indicates the effect of windiness and wind direction on the progress of combustion. In this paper the effect of wind is not considered.\n",
    "\n",
    "\n",
    "\n",
    "K_phi = 1 # Slope factor, which indicates the effect of elevation difference on the burning progress.\n",
    "K_phi_4 = math.exp(3.533 * pow( (abs(h_i-h_i1) / s ), 1.2))                      # Slope factor, calculation formula in the four-neighborhood domain\n",
    "K_phi_8 = math.exp(3.533 * pow( (abs(h_i-h_i1) / (math.sqrt(2)*s)), 1.2))        # Slope factor, calculation formula in the eight-neighborhood diagonal\n",
    "\n",
    "# Definition of integrated propagation speed\n",
    "R = R_0 * K_s * K_w * K_phi\n",
    "R_4 = R_0 * K_s * K_w * K_phi_4   # spread in the four-neighborhood domain\n",
    "R_8 = R_0 * K_s * K_w * K_phi_8   # spread in the eight-neighborhood diagonal\n"
   ]
  },
  {
   "cell_type": "code",
   "execution_count": 8,
   "metadata": {},
   "outputs": [],
   "source": [
    "class PatchAgent(mesa.Agent):\n",
    "    def __init__(self, pos, unique_id, model):\n",
    "        super().__init__(unique_id, model)\n",
    "        self.pos = pos\n",
    "        self.grid = model\n",
    "        self.elevation = None\n",
    "        self.state = 0\n",
    "\n",
    "    def step(self):\n",
    "        if self.check_affected():\n",
    "            print(\"I'm affacted at \" + str(self.pos))\n",
    "            try:\n",
    "                self.update_state()\n",
    "                print(\"My new state is \" + str(self.state))\n",
    "            except:\n",
    "                return\n",
    "        return\n",
    "    \n",
    "    # Definition of an agent's behavior\n",
    "    # Check if it has been affected by its neighbour \n",
    "    def check_affected(self):\n",
    "        flag = False\n",
    "        for each in self.grid.get_neighbors(self.pos, moore=True):\n",
    "            if each.state>0:\n",
    "                flag = True\n",
    "        return flag\n",
    "    \n",
    "    # Update the state value if affected\n",
    "    def update_state(self):\n",
    "        if self.check_affected() and not(self.check_boundary()):\n",
    "            self.state = self.state + self.get_R_summary(4) + self.get_R_summary(8)  \n",
    "            # print the log\n",
    "            print(\"Update at \" + str(self.pos))\n",
    "        return\n",
    "    \n",
    "    # Check if it is boundary\n",
    "    def check_boundary(self):\n",
    "        flag = False\n",
    "        if self.pos[0] in (0, 1885, 1934) or self.pos[1] in (0, 1885, 1934):\n",
    "            flag = True\n",
    "        \n",
    "        return flag\n",
    "    \n",
    "    # get the single R, self as point1\n",
    "    def get_R(self, x2, y2, mode = 4):\n",
    "        elevation_1 = self.elevation\n",
    "        if mode == 4:\n",
    "            elevation_2 = self.grid[x2][y2].elevation\n",
    "            R_4_value = R_0 * K_s * K_w * math.exp(3.533 * pow( (abs(elevation_1-elevation_2) / s ), 1.2))\n",
    "            return R_4_value\n",
    "        elif mode == 8:\n",
    "            elevation_2 = self.grid[x2][y2].elevation\n",
    "            R_8_value = R_0 * K_s * K_w * math.exp(3.533 * pow( (abs(elevation_1-elevation_2) / (math.sqrt(2)*s)), 1.2))\n",
    "            return R_8_value\n",
    "        else:\n",
    "            print(\"get_R: Worng mode! please check the input\")\n",
    "\n",
    "\n",
    "    # get the result of sum R, self as point1\n",
    "    def get_R_summary(self, mode = 4):\n",
    "        x = self.pos[0]\n",
    "        y = self.pos[1]\n",
    "\n",
    "        if mode == 4:\n",
    "            R_4_summary_value = (self.get_R(x+1, y, 4) + \\\n",
    "                                 self.get_R(x-1, y, 4) + \\\n",
    "                                 self.get_R(x, y+1, 4) + \\\n",
    "                                 self.get_R(x, y-1, 4))*dt/s\n",
    "            return R_4_summary_value\n",
    "        elif mode == 8:\n",
    "            R_8_summary_value = (math.pow(self.get_R(x+1, y+1, 8), 2) + \\\n",
    "                                 math.pow(self.get_R(x+1, y-1, 8), 2) + \\\n",
    "                                 math.pow(self.get_R(x-1, y+1, 8), 2) + \\\n",
    "                                 math.pow(self.get_R(x-1, y-1, 8), 2)) * dt \\\n",
    "                                 / (2*math.pow(s,2))\n",
    "            return R_8_summary_value\n",
    "        else:\n",
    "            print(\"get_R_summary: Worng mode! please check the input\")\n"
   ]
  },
  {
   "cell_type": "code",
   "execution_count": 9,
   "metadata": {},
   "outputs": [],
   "source": [
    "class WorldModel(mesa.space.SingleGrid):\n",
    "    def __init__(self, dem_arry):\n",
    "        self.schedule = mesa.time.SimultaneousActivation(self)\n",
    "        self.height = dem_arry.shape[0]\n",
    "        self.width = dem_arry.shape[1]\n",
    "        super().__init__(self.width, self.height, False)\n",
    "\n",
    "        self.ini_id = 0\n",
    "\n",
    "        for x in range(self.width):\n",
    "            for y in range(self.height):\n",
    "                elevation = dem_arry[y ,x]\n",
    "                patchAgent = PatchAgent(pos= (x,y),unique_id= self.ini_id, model= self)\n",
    "                patchAgent.elevation = elevation\n",
    "                self.place_agent(patchAgent, (x,y))\n",
    "                self.schedule.add(patchAgent)\n",
    "                self.ini_id = self.ini_id + 1\n",
    "    # each step what will happen?\n",
    "    def step(self):\n",
    "        self.schedule.step()\n",
    "\n",
    "\n",
    "    def get_agent_counts(self):\n",
    "        print(self.schedule.get_agent_count())\n",
    "        # 3649410\n",
    "\n",
    "    # set a fire at XY\n",
    "    def set_fire(self, x, y):\n",
    "        fire_patch = self[x][y]\n",
    "        fire_patch.state = 1\n",
    "        print(\"Well done, you set up a fire at \" + str(fire_patch.pos))\n",
    "\n"
   ]
  },
  {
   "cell_type": "code",
   "execution_count": 10,
   "metadata": {},
   "outputs": [],
   "source": [
    "# 建立测试模型， 花费时间16s\n",
    "test = WorldModel(dem_array)"
   ]
  },
  {
   "cell_type": "code",
   "execution_count": 12,
   "metadata": {},
   "outputs": [
    {
     "name": "stdout",
     "output_type": "stream",
     "text": [
      "Well done, you set up a fire at (1000, 1000)\n"
     ]
    }
   ],
   "source": [
    "test.set_fire(1000,1000)"
   ]
  },
  {
   "cell_type": "code",
   "execution_count": 13,
   "metadata": {},
   "outputs": [
    {
     "name": "stdout",
     "output_type": "stream",
     "text": [
      "Step: 0\n"
     ]
    }
   ],
   "source": [
    "for i in range(2):\n",
    "    print(\"Step: \" + str(i))\n",
    "    test.step()"
   ]
  },
  {
   "cell_type": "code",
   "execution_count": null,
   "metadata": {},
   "outputs": [],
   "source": [
    "# test.step()"
   ]
  }
 ],
 "metadata": {
  "kernelspec": {
   "display_name": "base",
   "language": "python",
   "name": "python3"
  },
  "language_info": {
   "codemirror_mode": {
    "name": "ipython",
    "version": 3
   },
   "file_extension": ".py",
   "mimetype": "text/x-python",
   "name": "python",
   "nbconvert_exporter": "python",
   "pygments_lexer": "ipython3",
   "version": "3.9.13"
  },
  "orig_nbformat": 4
 },
 "nbformat": 4,
 "nbformat_minor": 2
}
