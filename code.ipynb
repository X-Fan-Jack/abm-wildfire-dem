{
 "cells": [
  {
   "cell_type": "code",
   "execution_count": 15,
   "metadata": {},
   "outputs": [],
   "source": [
    "import mesa\n",
    "import numpy as np\n",
    "import mesa.time as mt\n",
    "import mesa.space as ms\n",
    "import mesa.batchrunner as mb\n",
    "import matplotlib.pyplot as plt\n",
    "import rasterio\n",
    "from PIL import Image\n",
    "import math\n"
   ]
  },
  {
   "cell_type": "code",
   "execution_count": 16,
   "metadata": {},
   "outputs": [],
   "source": [
    "# Read the tif file with DEM data\n",
    "dem_file = \"data/UK_DEM.tif\"\n",
    "dem_image = Image.open(dem_file)\n",
    "\n",
    "# store the dem data into array\n",
    "dem_array = np.array(dem_image)"
   ]
  },
  {
   "cell_type": "code",
   "execution_count": 17,
   "metadata": {},
   "outputs": [
    {
     "name": "stdout",
     "output_type": "stream",
     "text": [
      "Each pixel of the DEM equals [10.0m] in the real world\n"
     ]
    }
   ],
   "source": [
    "# Obtain geographic resolution information\n",
    "with rasterio.open(dem_file) as src:\n",
    "    x_resolution = src.transform[0]\n",
    "    y_resolution = src.transform[4]\n",
    "    # The average of the x and y directions is taken as the geographic resolution of the pixel\n",
    "    pixel_resolution = (abs(x_resolution) + abs(y_resolution)) / 2.0\n",
    "    print(\"Each pixel of the DEM equals [\" + str(pixel_resolution) + \"m] in the real world\")"
   ]
  },
  {
   "cell_type": "code",
   "execution_count": 18,
   "metadata": {},
   "outputs": [],
   "source": [
    "# Variable definition\n",
    "T = 25    # Average temperature\n",
    "h = 0.6   # Relative humidity\n",
    "dt = 0.0000001    # Time cost in each step\n",
    "\n",
    "# Variable will change when model runs\n",
    "s = pixel_resolution    # Length of the patch side in real world\n",
    "h_i = 0   # Elevation of patch i\n",
    "h_i1 = 0  # Elevation of patch i+1"
   ]
  },
  {
   "cell_type": "code",
   "execution_count": 19,
   "metadata": {},
   "outputs": [],
   "source": [
    "# Constant definition\n",
    "a = 0.03\n",
    "c = 0.05\n",
    "D = -0.3"
   ]
  },
  {
   "cell_type": "code",
   "execution_count": 20,
   "metadata": {},
   "outputs": [],
   "source": [
    "# Definition of spread rate\n",
    "R_0 = a*T + c*h - D   # Flat, windless, homogeneous burning speed\n",
    "\n",
    "# Constant definition \n",
    "K_s = 1  # Combustibles coefficient, which indicates the effect of combustibles on the progress of combustion.\n",
    "K_w = 1  # The wind direction coefficient, which indicates the effect of windiness and wind direction on the progress of combustion. In this paper the effect of wind is not considered.\n",
    "\n",
    "\n",
    "\n",
    "K_phi = 1 # Slope factor, which indicates the effect of elevation difference on the burning progress.\n",
    "K_phi_4 = math.exp(3.533 * pow( (abs(h_i-h_i1) / s ), 1.2))                      # Slope factor, calculation formula in the four-neighborhood domain\n",
    "K_phi_8 = math.exp(3.533 * pow( (abs(h_i-h_i1) / (math.sqrt(2)*s)), 1.2))        # Slope factor, calculation formula in the eight-neighborhood diagonal\n",
    "\n",
    "# Definition of integrated propagation speed\n",
    "R = R_0 * K_s * K_w * K_phi\n",
    "R_4 = R_0 * K_s * K_w * K_phi_4   # spread in the four-neighborhood domain\n",
    "R_8 = R_0 * K_s * K_w * K_phi_8   # spread in the eight-neighborhood diagonal\n"
   ]
  },
  {
   "attachments": {},
   "cell_type": "markdown",
   "metadata": {},
   "source": [
    "#### Definition of the state update\n",
    "\n",
    "$$State_{i,j}^{t+1} = State_{i,j}^{t} + \\frac{(R_{i+1,j}^{t}+R_{i-1,j}^{t}+R_{i,j+1}^{t}+R_{i,j-1}^{t})\\cdot dt}{s} + \\frac{({R_{i-1,j-1}^t}^2 +{R_{i-1,j+1}^t}^2 + {R_{i+1,j-1}^t}^2 + {R_{i+1,j+1}^t}^2)\\cdot dt}{2\\cdot s^2} $$"
   ]
  },
  {
   "cell_type": "code",
   "execution_count": 21,
   "metadata": {},
   "outputs": [],
   "source": [
    "# defined the each patch\n",
    "class Patch:\n",
    "    def __init__(self, pos, grid):\n",
    "        self.pos = pos\n",
    "        self.grid = grid     # self.grid\n",
    "        self.elevation = None  # elevation value of each patch\n",
    "        self.state = 0         # fire or not    0 = no fire; 0-1 = on fire; 2 = total burning; 3 = extinguished\n",
    "\n",
    "    # Definition of an agent's behavior\n",
    "    # Check if it has been affected by its neighbour \n",
    "    def check_affected(self):\n",
    "        flag = False\n",
    "        for each in self.grid.get_neighbors(self.pos, moore=True):\n",
    "            if each.state>0:\n",
    "                flag = True\n",
    "        return flag\n",
    "    \n",
    "    # Update the state value if affected\n",
    "    def update_state(self):\n",
    "        if self.check_affected():\n",
    "            \n",
    "            \n",
    "            return\n",
    "\n",
    "        return\n",
    "    \n",
    "\n",
    "    # get the single R, self as point1\n",
    "    def get_R(self, x2, y2, mode = 4):\n",
    "        elevation_1 = self.elevation\n",
    "        if mode == 4:\n",
    "            elevation_2 = self.grid[x2][y2].elevation\n",
    "            R_4_value = R_0 * K_s * K_w * math.exp(3.533 * pow( (abs(elevation_1-elevation_2) / s ), 1.2))\n",
    "            return R_4_value\n",
    "        elif mode == 8:\n",
    "            elevation_2 = self.grid[x2][y2].elevation\n",
    "            R_8_value = R_0 * K_s * K_w * math.exp(3.533 * pow( (abs(elevation_1-elevation_2) / (math.sqrt(2)*s)), 1.2))\n",
    "            return R_8_value\n",
    "        else:\n",
    "            print(\"get_R: Worng mode! please check the input\")\n",
    "\n",
    "\n",
    "    # get the result of sum R, self as point1\n",
    "    def get_R_summary(self, mode = 4):\n",
    "        x = self.pos[0]\n",
    "        y = self.pos[1]\n",
    "\n",
    "        if mode == 4:\n",
    "            R_4_summary_value = (self.get_R(x+1, y, 4) + \\\n",
    "                                 self.get_R(x-1, y, 4) + \\\n",
    "                                 self.get_R(x, y+1, 4) + \\\n",
    "                                 self.get_R(x, y-1, 4))*dt/s\n",
    "            return R_4_summary_value\n",
    "        elif mode == 8:\n",
    "            R_8_summary_value = (math.pow(self.get_R(x+1, y+1, 8), 2) + \\\n",
    "                                 math.pow(self.get_R(x+1, y-1, 8), 2) + \\\n",
    "                                 math.pow(self.get_R(x-1, y+1, 8), 2) + \\\n",
    "                                 math.pow(self.get_R(x-1, y-1, 8), 2)) * dt \\\n",
    "                                 / (2*math.pow(s,2))\n",
    "            return R_8_summary_value\n",
    "        else:\n",
    "            print(\"get_R_summary: Worng mode! please check the input\")\n",
    "\n",
    "\n",
    "\n",
    "\n",
    "            \n",
    "    \n",
    "\n"
   ]
  },
  {
   "cell_type": "code",
   "execution_count": 22,
   "metadata": {},
   "outputs": [],
   "source": [
    "# defined the abm world and create the patch agents\n",
    "class ABMWorld(ms.SingleGrid):\n",
    "    def __init__(self, dem_array):\n",
    "        self.height = dem_array.shape[0]\n",
    "        self.width = dem_array.shape[1]\n",
    "        super().__init__(self.width, self.height, False)\n"
   ]
  },
  {
   "cell_type": "code",
   "execution_count": 23,
   "metadata": {},
   "outputs": [],
   "source": [
    "# Create the abm model\n",
    "class ABMModel(mt.Model):\n",
    "    def __init__(self, dem_array):\n",
    "        self.schedule = mt.RandomActivation(self)\n",
    "        self.grid = ABMWorld(dem_array)\n",
    "\n",
    "        # set the elevation\n",
    "        for x in range(self.grid.width):\n",
    "            for y in range(self.grid.height):\n",
    "                elevation = dem_array[y, x]\n",
    "                patch = Patch((x, y), self.grid)\n",
    "                patch.elevation = elevation\n",
    "                self.grid.place_agent(patch, (x, y))\n",
    "\n",
    "\n",
    "    # each step what will happen?\n",
    "    def step(self):\n",
    "        self.schedule.step()\n",
    "        self.get_fire()\n",
    "\n",
    "    # get the count of agents\n",
    "    def get_agent_counts(self):\n",
    "        print(self.schedule.get_agent_count())\n",
    "\n",
    "    # set a fire at XY\n",
    "    def set_fire(self, x, y):\n",
    "        fire_patch = self.grid[x][y]\n",
    "        fire_patch.state = 1\n",
    "        print(\"Well done, you set up a fire at \" + str(fire_patch.pos))\n",
    "\n",
    "    # get the fire from its neigbhours\n",
    "    def get_fire(self):\n",
    "        for each_patch in self.grid:\n",
    "            if self.check_affected(each_patch.pos):\n",
    "                patch_x = each_patch.pos[0]\n",
    "                patch_y = each_patch.pos[1]\n",
    "\n",
    "                if patch_x not in (0, 1885, 1934) and patch_y not in (0, 1885, 1934):\n",
    "                    try:\n",
    "                        each_patch.state = each_patch.state + self.get_R_summary(patch_x, patch_y, 4) + self.get_R_summary(patch_x, patch_y, 8)\n",
    "                    except:\n",
    "                        continue\n",
    "                    self.check_state(patch_x, patch_y)\n",
    "\n",
    "\n",
    "    # Check if it has been affected by its neighbour     \n",
    "    def check_affected(self, pos):\n",
    "        flag = False\n",
    "        for each in self.grid.get_neighbors(pos, moore=True):\n",
    "            if each.state>0:\n",
    "                flag = True\n",
    "\n",
    "        return flag\n",
    "\n",
    "    # get the single R\n",
    "    def get_R(self, x1, y1, x2, y2, mode = 4):\n",
    "        if mode == 4:\n",
    "            elevation_1 = self.grid[x1][y1].elevation\n",
    "            elevation_2 = self.grid[x2][y2].elevation\n",
    "            R_4_value = R_0 * K_s * K_w * math.exp(3.533 * pow( (abs(elevation_1-elevation_2) / s ), 1.2))\n",
    "            return R_4_value\n",
    "        elif mode == 8:\n",
    "            elevation_1 = self.grid[x1][y1].elevation\n",
    "            elevation_2 = self.grid[x2][y2].elevation\n",
    "            R_8_value = R_0 * K_s * K_w * math.exp(3.533 * pow( (abs(elevation_1-elevation_2) / (math.sqrt(2)*s)), 1.2))\n",
    "            return R_8_value\n",
    "        else:\n",
    "            print(\"get_R: Worng mode! please check the input\")\n",
    "    \n",
    "    # get the result of sum R\n",
    "    def get_R_summary(self, x, y, mode = 4):\n",
    "        if mode == 4:\n",
    "            R_4_summary_value = (self.get_R(x, y, x+1, y, 4) + \\\n",
    "                                 self.get_R(x, y, x-1, y, 4) + \\\n",
    "                                 self.get_R(x, y, x, y+1, 4) + \\\n",
    "                                 self.get_R(x, y, x, y-1, 4))*dt/s\n",
    "            return R_4_summary_value\n",
    "        elif mode == 8:\n",
    "            R_8_summary_value = (math.pow(self.get_R(x, y, x+1, y+1, 8), 2) + \\\n",
    "                                 math.pow(self.get_R(x, y, x+1, y-1, 8), 2) + \\\n",
    "                                 math.pow(self.get_R(x, y, x-1, y+1, 8), 2) + \\\n",
    "                                 math.pow(self.get_R(x, y, x-1, y-1, 8), 2)) * dt \\\n",
    "                                 / (2*math.pow(s,2))\n",
    "            return R_8_summary_value\n",
    "        else:\n",
    "            print(\"get_R_summary: Worng mode! please check the input\")\n",
    "    \n",
    "    \n",
    "    def check_state(self, x, y):\n",
    "        state = self.grid[x][y].state\n",
    "        if state>0:\n",
    "            print(str(self.grid[x][y].pos) + \"report state \" + str(state))\n",
    "        # if state>=0 and state <1:\n",
    "        #     return\n",
    "        # elif state>1 and state<=2:\n",
    "        #     return\n",
    "        return\n",
    "    \n",
    "    "
   ]
  },
  {
   "cell_type": "code",
   "execution_count": 24,
   "metadata": {},
   "outputs": [],
   "source": [
    "# build model  16s?\n",
    "model = ABMModel(dem_array)"
   ]
  },
  {
   "cell_type": "code",
   "execution_count": 25,
   "metadata": {},
   "outputs": [
    {
     "name": "stdout",
     "output_type": "stream",
     "text": [
      "0\n"
     ]
    }
   ],
   "source": [
    "model.get_agent_counts()"
   ]
  },
  {
   "cell_type": "code",
   "execution_count": 26,
   "metadata": {},
   "outputs": [
    {
     "name": "stdout",
     "output_type": "stream",
     "text": [
      "Well done, you set up a fire at (1000, 1000)\n"
     ]
    }
   ],
   "source": [
    "model.set_fire(1000,1000)"
   ]
  },
  {
   "cell_type": "code",
   "execution_count": 27,
   "metadata": {},
   "outputs": [],
   "source": [
    "# for i in range(2):\n",
    "#     model.step()"
   ]
  },
  {
   "cell_type": "code",
   "execution_count": 28,
   "metadata": {},
   "outputs": [
    {
     "data": {
      "text/plain": [
       "(1886, 1935)"
      ]
     },
     "execution_count": 28,
     "metadata": {},
     "output_type": "execute_result"
    }
   ],
   "source": [
    "dem_array.shape"
   ]
  },
  {
   "cell_type": "code",
   "execution_count": 29,
   "metadata": {},
   "outputs": [],
   "source": [
    "# show the dem world(Just plot the DEM using plt)\n",
    "# plt.imshow(dem_array, cmap='gray', origin='lower')\n",
    "# plt.colorbar(label='Elevation')\n",
    "# plt.title('DEM Elevation')\n",
    "# plt.show()"
   ]
  }
 ],
 "metadata": {
  "kernelspec": {
   "display_name": "base",
   "language": "python",
   "name": "python3"
  },
  "language_info": {
   "codemirror_mode": {
    "name": "ipython",
    "version": 3
   },
   "file_extension": ".py",
   "mimetype": "text/x-python",
   "name": "python",
   "nbconvert_exporter": "python",
   "pygments_lexer": "ipython3",
   "version": "3.9.13"
  },
  "orig_nbformat": 4
 },
 "nbformat": 4,
 "nbformat_minor": 2
}
